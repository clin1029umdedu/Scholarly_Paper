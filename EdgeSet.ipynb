{
 "cells": [
  {
   "cell_type": "code",
   "execution_count": 502,
   "id": "a7d7571e-2f3c-4a05-acfc-c067e279925e",
   "metadata": {},
   "outputs": [],
   "source": [
    "import random\n",
    "import time\n",
    "import math\n",
    "from itertools import combinations, product\n",
    "import networkx as nx\n",
    "import numpy as np\n",
    "from typing import Tuple\n",
    "import cvxpy as cvx\n",
    "from IPython.display import display\n",
    "import pandas as pd\n",
    "from sklearn.metrics import mean_squared_error\n",
    "from sklearn.linear_model import LinearRegression\n",
    "from sklearn.preprocessing import PolynomialFeatures\n",
    "from sklearn.pipeline import make_pipeline\n",
    "from sklearn.model_selection import cross_val_score\n",
    "import pickle"
   ]
  },
  {
   "cell_type": "code",
   "execution_count": 15,
   "id": "1f38e5d7-5b41-4b79-abf7-1757907be46f",
   "metadata": {},
   "outputs": [],
   "source": [
    "# Works for n=100000; Possibly up to n=1000000\n",
    "def has4clique(E):\n",
    "    n = len(E)\n",
    "    for u in range(n):\n",
    "        for v in E[u]:\n",
    "            if u >= v:\n",
    "                continue\n",
    "            # Get common neighbors of u and v\n",
    "            common = E[u].intersection(E[v])\n",
    "            common = list(common)\n",
    "            # Check pairs in the common neighbors\n",
    "            for i in range(len(common)):\n",
    "                for j in range(i + 1, len(common)):\n",
    "                    w, x = common[i], common[j]\n",
    "                    if x in E[w]:  # w and x must also be connected\n",
    "                        return True  # Found a 4-clique: u, v, w, x\n",
    "    return False"
   ]
  },
  {
   "cell_type": "code",
   "execution_count": 52,
   "id": "02c4ce27-c15b-4f16-9c1f-2c6dbc616741",
   "metadata": {},
   "outputs": [],
   "source": [
    "# Creating a random tree works for n up to 100000 is O(n)\n",
    "def randTree(n, m):\n",
    "    ### RANDOM TREE CODE BELOW ###\n",
    "    E = []\n",
    "    for i in range(n):\n",
    "        E.append(set())\n",
    "    connect = list(range(n))\n",
    "    random.shuffle(connect)\n",
    "    connected = [connect[0]]\n",
    "    for i in range(1, n):\n",
    "        u = connect[i]\n",
    "        v = random.choice(connected)\n",
    "        E[u].add(v)\n",
    "        E[v].add(u)\n",
    "        connected.append(u)\n",
    "    ### RANDOM TREE CODE ABOVE ###\n",
    "\n",
    "    ### RANDOM EDGE INSERTION CODE BELOW ###\n",
    "    vs = range(n)\n",
    "    for _ in range(m):\n",
    "        v, u = random.sample(vs, 2)\n",
    "        if not v in E[u]:\n",
    "            E[u].add(v)\n",
    "            E[v].add(u)\n",
    "    ### RANDOM EDGE INSERTION CODE ABOVE ###\n",
    "    return E"
   ]
  },
  {
   "cell_type": "code",
   "execution_count": 361,
   "id": "b0a29efa-e1aa-419b-9803-1d39a97df8d8",
   "metadata": {},
   "outputs": [],
   "source": [
    "# Calculates ∑A(x) RANDOMLY for a 4-cliqueless graph G\n",
    "def sumAx(G, n):\n",
    "    # Seeing every vertex i in V\n",
    "    count = 0\n",
    "    for i in range(n):\n",
    "        # Find the neighbors of i\n",
    "        neighbors = G[i]\n",
    "\n",
    "        S, T = set(), set()\n",
    "        for v in neighbors:\n",
    "            if random.random() > 0.5:\n",
    "                S.add(v)\n",
    "            else:\n",
    "                T.add(v)\n",
    "    \n",
    "        # Step 2: Count the edges crossing the partition\n",
    "        cut_size = 0\n",
    "        for u in S:\n",
    "            for v in T:\n",
    "                if v in G[u]:\n",
    "                    cut_size += 1\n",
    "\n",
    "        # Sum A(x) over all x in V\n",
    "        count += cut_size\n",
    "    return count"
   ]
  },
  {
   "cell_type": "code",
   "execution_count": 436,
   "id": "a6728cb0-e6d0-4225-8373-16020dd65033",
   "metadata": {},
   "outputs": [],
   "source": [
    "# Determine all 2-partitions of a given set (needed for ∑A(x))\n",
    "def twoParts(s):\n",
    "    s = list(s)\n",
    "    seen = set()\n",
    "    n = len(s)\n",
    "    \n",
    "    # Generate all possible non-empty subsets for the first part (up to half the size to avoid duplicates)\n",
    "    for i in range(1, n // 2 + 1):\n",
    "        for subset in combinations(s, i):\n",
    "            part1 = set(subset)\n",
    "            part2 = set(s) - part1\n",
    "            # Sort to normalize and avoid mirror duplicates\n",
    "            key = frozenset([frozenset(part1), frozenset(part2)])\n",
    "            if key not in seen:\n",
    "                seen.add(key)\n",
    "                yield (part1, part2)\n",
    "\n",
    "# Calculates ∑A(x) for a 4-cliqueless graph G\n",
    "def sumAx_Real(G, n):\n",
    "    # Seeing every vertex x in V\n",
    "    count = 0\n",
    "    for i in range(n):\n",
    "        neighbors = G[i]\n",
    "        # For all 2-partitions of the neighbor set, determine the amount of edges present and get the max:\n",
    "        maX = 0\n",
    "        for p1, p2 in twoParts(neighbors):\n",
    "            curr = 0\n",
    "            # For a given partition, find how many edges exist with one vertex in p1 and the other in p2\n",
    "            for v1 in p1:\n",
    "                for v2 in p2:\n",
    "                    if v2 in G[v1]:\n",
    "                        curr += 1\n",
    "            # Update maximum\n",
    "            maX = curr if curr > maX else maX\n",
    "        # Sum A(x) over all x in V\n",
    "        count += maX\n",
    "    return count"
   ]
  },
  {
   "cell_type": "code",
   "execution_count": 362,
   "id": "c14d0d02-e2b3-42c9-96b7-8ff86aeb89ab",
   "metadata": {},
   "outputs": [],
   "source": [
    "# Builds a list of all possible 3-subsets up to n\n",
    "def size2_3U(E, n):\n",
    "    count = 0\n",
    "    n = len(E)\n",
    "    for u in range(n):\n",
    "        for v in E[u]:\n",
    "            if v > u:\n",
    "                common_neighbors = E[u].intersection(E[v])\n",
    "                for w in common_neighbors:\n",
    "                    if w > v:\n",
    "                        count += 1\n",
    "    return count * 2"
   ]
  },
  {
   "cell_type": "code",
   "execution_count": 360,
   "id": "64ad54b1-a5af-45ee-b100-ea3fbf81ba90",
   "metadata": {},
   "outputs": [
    {
     "data": {
      "text/plain": [
       "49"
      ]
     },
     "execution_count": 360,
     "metadata": {},
     "output_type": "execute_result"
    }
   ],
   "source": [
    "# Now we can check what percent of graphs generally have a 4 clique once you add _ random edges\n",
    "count = 0\n",
    "for _ in range(100):\n",
    "    if has4clique(randTree(10000, 150000)):\n",
    "        count += 1\n",
    "count"
   ]
  },
  {
   "cell_type": "markdown",
   "id": "a442e42a-355a-4300-8e8f-9a5477c9b110",
   "metadata": {},
   "source": [
    "For random edge insertion, at 100 verticies, it is about 300 vertices in which we get a 4-clique with 50% possibility. At 200, 775. At 300, 1350. At 400, 2000. 500, 2750. At 1000, 7125. At 10000, 150000\n",
    "\n",
    "I wish I had a formula for this shit :(\n",
    "\n",
    "For more filled graphs, closeness levels out to 0.20. We need exceptions!\n",
    "\n",
    "Typical randomized algorithms balance out their closeness at 0.2. LET US CHANGE THAT!!!"
   ]
  },
  {
   "cell_type": "code",
   "execution_count": 586,
   "id": "1aaca973-6755-4b05-8a66-06162228838b",
   "metadata": {},
   "outputs": [
    {
     "name": "stdout",
     "output_type": "stream",
     "text": [
      "A is 10; U is 12\n"
     ]
    }
   ],
   "source": [
    "n = 10000\n",
    "for _ in range(10):\n",
    "    G = randTree(n, 10000)\n",
    "    if not has4clique(G):\n",
    "        A = sumAx(G, n) * 2\n",
    "        U = size2_3U(G, n)\n",
    "        if A != 0 and A - U < 0:\n",
    "            print(f\"A is {A}; U is {U}\")\n",
    "            break"
   ]
  },
  {
   "cell_type": "code",
   "execution_count": 587,
   "id": "c41e783b-7a7f-4cd9-98cd-66394571b91f",
   "metadata": {},
   "outputs": [],
   "source": [
    "VIABLE = G"
   ]
  },
  {
   "cell_type": "code",
   "execution_count": 589,
   "id": "b596b0b8-3efc-4447-9afe-38909a340ea0",
   "metadata": {},
   "outputs": [
    {
     "data": {
      "text/plain": [
       "18"
      ]
     },
     "execution_count": 589,
     "metadata": {},
     "output_type": "execute_result"
    }
   ],
   "source": [
    "sumAx_Real(VIABLE, n)"
   ]
  },
  {
   "cell_type": "code",
   "execution_count": 385,
   "id": "d2d3542c-bcc7-4c0c-8c58-63338306274b",
   "metadata": {},
   "outputs": [],
   "source": [
    "# Creating a random tree works for n up to 100000 is O(n)\n",
    "def randTree_(n, m):\n",
    "    ### RANDOM TREE CODE BELOW ###\n",
    "    E = []\n",
    "    for i in range(n):\n",
    "        E.append(set())\n",
    "    connect = list(range(n))\n",
    "    random.shuffle(connect)\n",
    "    connected = [connect[0]]\n",
    "    for i in range(1, n):\n",
    "        u = connect[i]\n",
    "        v = random.choice(connected)\n",
    "        E[u].add(v)\n",
    "        E[v].add(u)\n",
    "        connected.append(u)\n",
    "    ### RANDOM TREE CODE ABOVE ###\n",
    "\n",
    "    ### RANDOM TRIANGLE INSERTION CODE BELOW ###\n",
    "    vs = range(n)\n",
    "    for _ in range(m):\n",
    "        a, b, c = random.sample(vs, 3)\n",
    "        E[a].add(b)\n",
    "        E[a].add(c)\n",
    "        E[b].add(a)\n",
    "        E[b].add(c)\n",
    "        E[c].add(a)\n",
    "        E[c].add(b)\n",
    "    ### RANDOM TRIANGLE INSERTION CODE ABOVE ###\n",
    "    return E"
   ]
  },
  {
   "cell_type": "code",
   "execution_count": 608,
   "id": "86ed159d-a52f-4c2b-bd2e-03302e8a67ee",
   "metadata": {},
   "outputs": [],
   "source": [
    "# Creating a random tree works for n up to 100000 is O(n)\n",
    "def _randTree_(n, m1, m2):\n",
    "    ### RANDOM TREE CODE BELOW ###\n",
    "    E = []\n",
    "    for i in range(n):\n",
    "        E.append(set())\n",
    "    connect = list(range(n))\n",
    "    random.shuffle(connect)\n",
    "    connected = [connect[0]]\n",
    "    for i in range(1, n):\n",
    "        u = connect[i]\n",
    "        v = random.choice(connected)\n",
    "        E[u].add(v)\n",
    "        E[v].add(u)\n",
    "        connected.append(u)\n",
    "    ### RANDOM TREE CODE ABOVE ###\n",
    "\n",
    "    vs = range(n)\n",
    "\n",
    "    ### RANDOM EDGE INSERTION CODE BELOW ###\n",
    "    for _ in range(m1):\n",
    "        v, u = random.sample(vs, 2)\n",
    "        if not v in E[u]:\n",
    "            E[u].add(v)\n",
    "            E[v].add(u)\n",
    "    ### RANDOM EDGE INSERTION CODE ABOVE ###\n",
    "\n",
    "    ### RANDOM TRIANGLE INSERTION CODE BELOW ###\n",
    "    for _ in range(m2):\n",
    "        a, b, c = random.sample(vs, 3)\n",
    "        E[a].add(b)\n",
    "        E[a].add(c)\n",
    "        E[b].add(a)\n",
    "        E[b].add(c)\n",
    "        E[c].add(a)\n",
    "        E[c].add(b)\n",
    "    ### RANDOM TRIANGLE INSERTION CODE ABOVE ###\n",
    "    return E"
   ]
  },
  {
   "cell_type": "code",
   "execution_count": 397,
   "id": "534d7141-3af3-4b17-bf56-8bf3243471c3",
   "metadata": {},
   "outputs": [
    {
     "data": {
      "text/plain": [
       "3"
      ]
     },
     "execution_count": 397,
     "metadata": {},
     "output_type": "execute_result"
    }
   ],
   "source": [
    "# Now we can check what percent of graphs generally have a 4 clique once you add _ random TRIANGLES\n",
    "count = 0\n",
    "for _ in range(6):\n",
    "    if has4clique(randTree_(10000, 20000)):\n",
    "        count += 1\n",
    "count"
   ]
  },
  {
   "cell_type": "code",
   "execution_count": 605,
   "id": "e82d46d2-6f5b-413f-a55c-4e580d87e5d9",
   "metadata": {},
   "outputs": [
    {
     "name": "stdout",
     "output_type": "stream",
     "text": [
      "∑Ax is 38; U is 40\n"
     ]
    }
   ],
   "source": [
    "n = 1000\n",
    "for _ in range(100000):\n",
    "    G = randTree_(n, 20)\n",
    "    if not has4clique(G):\n",
    "        A = sumAx(G, n) * 2\n",
    "        U = size2_3U(G, n)\n",
    "        if A - U < 0:\n",
    "            print(f\"∑Ax is {A}; U is {U}\")\n",
    "            break"
   ]
  },
  {
   "cell_type": "code",
   "execution_count": 606,
   "id": "b42fa34f-cce4-4bdc-99c5-3b260719b0d8",
   "metadata": {},
   "outputs": [],
   "source": [
    "VIABLE = G"
   ]
  },
  {
   "cell_type": "code",
   "execution_count": 607,
   "id": "bcd9ab4f-426d-438d-94a9-3d5b32e2b8bd",
   "metadata": {},
   "outputs": [
    {
     "data": {
      "text/plain": [
       "60"
      ]
     },
     "execution_count": 607,
     "metadata": {},
     "output_type": "execute_result"
    }
   ],
   "source": [
    "sumAx_Real(VIABLE, n)"
   ]
  },
  {
   "cell_type": "code",
   "execution_count": 694,
   "id": "cf381216-5b24-4f14-9c49-1dba2d0382e0",
   "metadata": {},
   "outputs": [
    {
     "name": "stdout",
     "output_type": "stream",
     "text": [
      "∑Ax is 18; U is 20\n"
     ]
    }
   ],
   "source": [
    "n = 10000\n",
    "for _ in range(100):\n",
    "    G = _randTree_(n, 15, 10)\n",
    "    if not has4clique(G):\n",
    "        A = sumAx(G, n) * 2\n",
    "        U = size2_3U(G, n)\n",
    "        if A - U < 0:\n",
    "            print(f\"∑Ax is {A}; U is {U}\")\n",
    "            break"
   ]
  },
  {
   "cell_type": "code",
   "execution_count": 695,
   "id": "c81d6015-e978-43f8-a1b3-268bfabcc516",
   "metadata": {},
   "outputs": [
    {
     "data": {
      "text/plain": [
       "30"
      ]
     },
     "execution_count": 695,
     "metadata": {},
     "output_type": "execute_result"
    }
   ],
   "source": [
    "sumAx_Real(G, n)"
   ]
  },
  {
   "cell_type": "code",
   "execution_count": null,
   "id": "9cbc27bc-6e1c-4167-82d0-c2d27dcffbe1",
   "metadata": {},
   "outputs": [],
   "source": []
  }
 ],
 "metadata": {
  "kernelspec": {
   "display_name": "Python 3 (ipykernel)",
   "language": "python",
   "name": "python3"
  },
  "language_info": {
   "codemirror_mode": {
    "name": "ipython",
    "version": 3
   },
   "file_extension": ".py",
   "mimetype": "text/x-python",
   "name": "python",
   "nbconvert_exporter": "python",
   "pygments_lexer": "ipython3",
   "version": "3.12.6"
  }
 },
 "nbformat": 4,
 "nbformat_minor": 5
}
