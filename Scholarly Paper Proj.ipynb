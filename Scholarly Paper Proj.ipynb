{
 "cells": [
  {
   "cell_type": "markdown",
   "id": "a15e72f7-fa78-4f66-acc3-8608f5cab602",
   "metadata": {},
   "source": [
    "<h1 style=\"text-align: center; margin-bottom: 10px;\">Improving the Bounds of Spencer's Graph</h1>\n",
    "<h3 style=\"text-align: center; margin-top: 10px;\">Name: Charles Lin</h3>"
   ]
  },
  {
   "cell_type": "markdown",
   "id": "139a7b9e-9a22-40bf-aa43-80e51a52248d",
   "metadata": {},
   "source": [
    "Hello World!"
   ]
  },
  {
   "cell_type": "markdown",
   "id": "736d5ad4-fd3d-4254-9db1-5622c8b0d562",
   "metadata": {},
   "source": [
    "<h2 style=\"text-align: center;\">Abstract</h2>\n",
    "The field of Ramsey Theory has allowed us to find various graphs with unique properties. However, many bounds for even small Ramsey values (such as R(5)) are still undetermined and remain as open questions in the world of mathematics. This project explores finding a graph that doesn't have a $K_4$ clique AND for any 2-coloring of its edges, there exists a monochromatic triangle within the graph. A bound for the number of vertices for a graph that holds this property has already been proven ($3 \\times 10^8$), but we aim to significantly improve that bound using randomized algorithm techniques in this project."
   ]
  },
  {
   "cell_type": "markdown",
   "id": "896bea26-1423-4e46-bcb0-c2614b48751f",
   "metadata": {},
   "source": [
    "<h2 style=\"text-align: center;\">Introduction Background</h2>\n",
    "Before we dive into how we will use randomized algorithms to solve this problem, keep in mind the following definitions/theorems related to this problem:\n",
    "<h3 style=\"text-align: center;\">Definitions and Theorems</h3>\n",
    "\n",
    "* The **Random Graph** $G(n,p)$ is an *undirected* graph on n vertices (i.e. $V=[n]$) and whose edge set $E$ contains an edge $(x,y)\\in \\binom{V}{2}$ with probability p.\n",
    "* $\\text{RAM}(G)$ indicates that for all 2 colorings $\\text{COL}\\colon \\binom{V}{2}\\rightarrow [2]$ for the edges of a graph G, there exists a monochromatic triangle.\n",
    "* The set $U$ is defined as:\n",
    "$$U = \\bigcup _{x,y,z\\in \\binom{V}{3}}\\{(x,xyz)\\colon xyz \\text{ is a Δ in G}\\}$$\n",
    "* And for $x\\in V$, the functions $U(x), N(x)$ are defined as:\n",
    "$$U(x) = \\{(x,xyz)\\colon xyz \\text{ is a Δ in G}\\}$$\n",
    "$$N(x) = \\{y\\colon (x,y) \\in E\\}$$\n",
    "* $U^{COL}$ is a subset of $U$ that uses an edge coloring of the graph $\\text{COL}\\colon \\binom{V}{2} \\rightarrow [2]$defined as:\n",
    "$$U^{COL} = \\bigcup _{x,y,z\\in \\binom{V}{3}}\\{(x,xyz)\\colon xyz \\text{ is a Δ in G } \\& \\text{ COL}(x,y) \\not = \\text{COL}(x,z)\\}$$\n",
    "\n",
    "* With these definitions comes the following theorems (proofs ommitted):\n",
    "  * **Thm:** $|U^{COL}|=\\frac{2}{3}|U|$\n",
    "  * **Thm:** Let $x \\in V$, $R(x)=\\{y\\colon \\text{COL}(x,y)=R\\}$, and $B(x)=\\{z\\colon \\text{COL}(x,z)=B\\}$. It follows that:\n",
    "\n",
    "1) $|U^{COL}|=|\\{(y,z)\\in E\\colon y\\in R(x) \\land z \\in B(x)\\}|$\n",
    "2) $|U^{COL}|\\leq \\max_{N(x)=Y\\cup Z}|\\{(y,z)\\in E\\colon y\\in Y \\land z \\in Z\\}|$\n",
    "\n",
    "* We can now state our final definition $A(x)$:\n",
    "$$A(x)=\\max_{N(x)=R\\cup B}\\{(y,z)\\in E\\colon y\\in R \\land z \\in B\\}$$\n",
    "\n",
    "* And with some mathemagic and algebraic manipulation, this defintion provides our star theorem for the overall purpose of this project:\n",
    "  * **Thm:** If $\\sum_{x\\in V}A(x) < \\frac{2}{3}|U|$, then $\\text{RAM}(G)$.\n",
    " \n",
    "---\n",
    "With our golden theorem, we now have a way to determine our criteria, $\\text{RAM}(G)$, without having to check every 2-coloring E for a given graph G. The following sections use randomized algorithms for graph creation to attempt to find a better graph that achieves this criteria."
   ]
  },
  {
   "cell_type": "markdown",
   "id": "31414e3f-07e1-4818-ac21-c96f95621025",
   "metadata": {},
   "source": [
    "<h2 style=\"text-align: center;\">The Program</h2>\n",
    "The following program below is build in a randomized way to attempt to find a suitable graph G with a better n bound. It is built in the following way:\n",
    "\n",
    "**Inputs:** $n\\in \\mathbb{N}$, $0 < p < 1$, and $I$. (Example: $n = 100$, $p = 1/10$, $I = 1000$)\n",
    "\n",
    "**Pseudocode Process:**\n",
    "While a suitable G hasn't been found or the below process hasn't been attempted I times:\n",
    "\n",
    "1) Create a **Random Graph** $G'=G(n, p)$\n",
    "2) Check to see if there are $K_4$'s in $G'$. If there are, randomly delete an edge from a $K_4$ until there are no more $K_4$'s\n",
    "3) Call this new graph G, and compute $\\sum_{x\\in V}A(x)$ and $\\frac{2}{3}|U|$. If our golden criteria is reached ($\\sum_{x\\in V}A(x)$ and < $\\frac{2}{3}|U|$), HOORAY!\n",
    "\n",
    "Now we will finally get down and dirty with some code:"
   ]
  },
  {
   "cell_type": "code",
   "execution_count": 1,
   "id": "4bc71832-7688-4ec7-a210-10cb1c8fad20",
   "metadata": {},
   "outputs": [],
   "source": [
    "import random\n",
    "import time\n",
    "import math\n",
    "from itertools import combinations, product\n",
    "import networkx as nx\n",
    "import numpy as np\n",
    "from typing import Tuple\n",
    "import cvxpy as cvx\n",
    "from IPython.display import display\n",
    "import pandas as pd"
   ]
  },
  {
   "cell_type": "code",
   "execution_count": 2,
   "id": "61f246dd-d345-41a4-a8fc-f2c5b3cdef88",
   "metadata": {},
   "outputs": [],
   "source": [
    "# Creates a Random Graph (adjacency matrix) as detailed in definitions\n",
    "def randomGraph(n, p):\n",
    "    x = [[0]*n for _ in range(n)]\n",
    "    for i in range(n - 1):\n",
    "        for j in range(i + 1, n):\n",
    "            if random.random() < p:\n",
    "                x[i][j] = 1\n",
    "                x[j][i] = 1\n",
    "    return x"
   ]
  },
  {
   "cell_type": "code",
   "execution_count": 3,
   "id": "d9374072-54e8-4706-996d-f9596c74b150",
   "metadata": {},
   "outputs": [],
   "source": [
    "# Builds a list of all possible 3-subsets up to n\n",
    "def subsets3(n):\n",
    "    x = []\n",
    "    for i in range(n - 2):\n",
    "        for j in range(i + 1, n - 1):\n",
    "            for k in range(j + 1, n):\n",
    "                x.append((i,j,k))\n",
    "    return x"
   ]
  },
  {
   "cell_type": "code",
   "execution_count": 4,
   "id": "f12cf4b4-3762-4f46-98a0-ab69118de538",
   "metadata": {},
   "outputs": [],
   "source": [
    "# Builds a list of all possible 4-subsets up to n\n",
    "def subsets4(n):\n",
    "    x = []\n",
    "    for i in range(n - 3):\n",
    "        for j in range(i + 1, n - 2):\n",
    "            for k in range(j + 1, n - 1):\n",
    "                for l in range (k + 1, n):\n",
    "                    x.append((i,j,k,l))\n",
    "    return x"
   ]
  },
  {
   "cell_type": "code",
   "execution_count": 5,
   "id": "5d856b88-db9c-4674-8a6a-869f4407a04f",
   "metadata": {},
   "outputs": [],
   "source": [
    "# Create a list of all the K_4's present in a graph G\n",
    "def cliques4(G, n):\n",
    "    t1 = time.time()\n",
    "    subsets = subsets4(n)\n",
    "    t2 = time.time()\n",
    "    cliques = []\n",
    "    for ss in subsets:\n",
    "        check = G[ss[0]][ss[1]] + G[ss[0]][ss[2]] + G[ss[0]][ss[3]] + G[ss[1]][ss[2]] + G[ss[1]][ss[3]] + G[ss[2]][ss[3]]\n",
    "        if check == 6:\n",
    "            cliques.append(ss)\n",
    "    t3 = time.time()\n",
    "    print(f\"sub4sets takes {t2 - t1} ; finding cliques takes {t3 - t2}\")\n",
    "    return cliques"
   ]
  },
  {
   "cell_type": "code",
   "execution_count": 6,
   "id": "5da8c0cf-c686-4969-9dd0-ced72a8b3e83",
   "metadata": {},
   "outputs": [],
   "source": [
    "# Create a graph G with no 4-cliques:\n",
    "def no4CliqueG(n, p):\n",
    "    G = randomGraph(n, p)\n",
    "    cliques = cliques4(G, n)\n",
    "    for cq in cliques:\n",
    "        # Check to see if a previous removal already eliminated this specific clique\n",
    "        if G[cq[0]][cq[1]] + G[cq[0]][cq[2]] + G[cq[0]][cq[3]] + G[cq[1]][cq[2]] + G[cq[1]][cq[3]] + G[cq[2]][cq[3]] != 6:\n",
    "            continue\n",
    "        else:\n",
    "            # Otherwise, randomly remove an edge from the 4-clique to eliminate it\n",
    "            match int(random.random()*6):\n",
    "                case 0:\n",
    "                    G[cq[0]][cq[1]] = 0\n",
    "                    G[cq[1]][cq[0]] = 0\n",
    "                case 1:\n",
    "                    G[cq[0]][cq[2]] = 0\n",
    "                    G[cq[2]][cq[0]] = 0\n",
    "                case 2:\n",
    "                    G[cq[0]][cq[3]] = 0\n",
    "                    G[cq[3]][cq[0]] = 0\n",
    "                case 3:\n",
    "                    G[cq[1]][cq[2]] = 0\n",
    "                    G[cq[2]][cq[1]] = 0\n",
    "                case 4:\n",
    "                    G[cq[1]][cq[3]] = 0\n",
    "                    G[cq[3]][cq[1]] = 0\n",
    "                case _:\n",
    "                    G[cq[2]][cq[3]] = 0\n",
    "                    G[cq[3]][cq[2]] = 0\n",
    "    return G"
   ]
  },
  {
   "cell_type": "code",
   "execution_count": 7,
   "id": "57ecf150-45e0-45a5-b31a-29d4b26860af",
   "metadata": {},
   "outputs": [],
   "source": [
    "# Determine all 2-partitions of a given set (needed for ∑A(x))\n",
    "def twoParts(s):\n",
    "    s = list(s)\n",
    "    seen = set()\n",
    "    n = len(s)\n",
    "    \n",
    "    # Generate all possible non-empty subsets for the first part (up to half the size to avoid duplicates)\n",
    "    for i in range(1, n // 2 + 1):\n",
    "        for subset in combinations(s, i):\n",
    "            part1 = set(subset)\n",
    "            part2 = set(s) - part1\n",
    "            # Sort to normalize and avoid mirror duplicates\n",
    "            key = frozenset([frozenset(part1), frozenset(part2)])\n",
    "            if key not in seen:\n",
    "                seen.add(key)\n",
    "                yield (part1, part2)"
   ]
  },
  {
   "cell_type": "code",
   "execution_count": 8,
   "id": "1719ae83-098c-4d23-9603-b3d4899edcd2",
   "metadata": {},
   "outputs": [],
   "source": [
    "# Calculates ∑A(x) for a 4-cliqueless graph G\n",
    "def sumAx(G, n):\n",
    "    # Seeing every vertex x in V\n",
    "    count = 0\n",
    "    for i in range(n):\n",
    "        # If the x has no edges to other verticies, it's irrelevant\n",
    "        if max(G[i]) == 0:\n",
    "            continue\n",
    "        # Find the neighbors of x\n",
    "        neighbors = set()\n",
    "        for j in range(n):\n",
    "            if G[i][j] == 1:\n",
    "                neighbors.add(j)\n",
    "        # For all 2-partitions of the neighbor set, determine the amount of edges present and get the max:\n",
    "        maX = 0\n",
    "        for p1, p2 in twoParts(neighbors):\n",
    "            curr = 0\n",
    "            # For a given partition, find how many edges exist with one vertex in p1 and the other in p2\n",
    "            for v1 in p1:\n",
    "                for v2 in p2:\n",
    "                    if G[v1][v2] == 1:\n",
    "                        curr += 1\n",
    "            # Update maximum\n",
    "            maX = curr if curr > maX else maX\n",
    "        # Sum A(x) over all x in V\n",
    "        count += maX\n",
    "    return count"
   ]
  },
  {
   "cell_type": "code",
   "execution_count": 9,
   "id": "ee43f006-8366-48ce-b7ec-3ccf7c80cf77",
   "metadata": {},
   "outputs": [],
   "source": [
    "# Calculates ∑A(x) for a 4-cliqueless graph G\n",
    "def sumAx_rand(G, n):\n",
    "    # Seeing every vertex x in V\n",
    "    count = 0\n",
    "    for i in range(n):\n",
    "        # If the x has no edges to other verticies, it's irrelevant\n",
    "        if max(G[i]) == 0:\n",
    "            continue\n",
    "        # Find the neighbors of x\n",
    "        neighbors = set()\n",
    "        for j in range(n):\n",
    "            if G[i][j] == 1:\n",
    "                neighbors.add(j)\n",
    "\n",
    "        S, T = set(), set()\n",
    "        for v in neighbors:\n",
    "            if random.random() > 0.5:\n",
    "                S.add(v)\n",
    "            else:\n",
    "                T.add(v)\n",
    "    \n",
    "        # Step 2: Count the edges crossing the partition\n",
    "        cut_size = 0\n",
    "        for u in S:\n",
    "            for v in T:\n",
    "                if G[u][v] == 1:\n",
    "                    cut_size += 1\n",
    "\n",
    "        # Sum A(x) over all x in V\n",
    "        count += cut_size\n",
    "    return count"
   ]
  },
  {
   "cell_type": "code",
   "execution_count": 10,
   "id": "7764376f-3307-4954-980e-772456477f06",
   "metadata": {},
   "outputs": [
    {
     "name": "stdout",
     "output_type": "stream",
     "text": [
      "sub4sets takes 0.8534562587738037 ; finding cliques takes 1.085005760192871\n",
      "Naive sumAx: 0.3565521240234375 secs; 255\n",
      "Faster sumAx: 0.0007390975952148438 secs; 126\n"
     ]
    }
   ],
   "source": [
    "G = no4CliqueG(100, 0.2)\n",
    "time1 = time.time()\n",
    "uno = sumAx(G, 50)\n",
    "time2 = time.time()\n",
    "print(f\"Naive sumAx: {time2 - time1} secs; {uno}\")\n",
    "time3 = time.time()\n",
    "dos = sumAx_rand(G, 50)\n",
    "time4 = time.time()\n",
    "print(f\"Faster sumAx: {time4 - time3} secs; {dos}\")"
   ]
  },
  {
   "cell_type": "code",
   "execution_count": 11,
   "id": "b0658c4c-6751-43dd-b7e9-567235ba821b",
   "metadata": {},
   "outputs": [],
   "source": [
    "# Note that |U| = |∆'s in G * 3|. This function returns 2/3|U|\n",
    "def size2_3U(G, n):\n",
    "    subsets = subsets3(n)\n",
    "    count = 0\n",
    "    for subset in subsets:\n",
    "        check = G[subset[0]][subset[1]] + G[subset[0]][subset[2]] + G[subset[1]][subset[2]]\n",
    "        if check == 3:\n",
    "            count += 1\n",
    "    return count * 2"
   ]
  },
  {
   "cell_type": "markdown",
   "id": "6c76adfe-27f4-4eb0-b9ba-8ebe7e25bef9",
   "metadata": {},
   "source": [
    "We now have all our necessary functions required to use randomized algorithms to possibly find a viable graph. Let us implement the overall algorithm for multiple iterations I:"
   ]
  },
  {
   "cell_type": "code",
   "execution_count": 12,
   "id": "1b59e478-a093-4654-a6cf-406b84470e6b",
   "metadata": {},
   "outputs": [],
   "source": [
    "# Overall Program detailed in above Pseudocode\n",
    "def PROG(n, p, I):\n",
    "    closest = (1000000, 0)\n",
    "    # bestG = None\n",
    "    for _ in range(I):\n",
    "        time1 = time.time()\n",
    "        G = no4CliqueG(n, p)\n",
    "        time2 = time.time()\n",
    "        print(f\"No 4-clique Graph Creation takes {time2 - time1} secs\")\n",
    "        Asum = sumAx(G, n)\n",
    "        time3 = time.time()\n",
    "        print(f\"∑A(x) takes {time3 - time2} secs\")\n",
    "        U2_3 = size2_3U(G, n)\n",
    "        time4 = time.time()\n",
    "        print(f\"2/3|U| takes {time4 - time3} secs\")\n",
    "        if (Asum - U2_3) < (closest[0] - closest[1]):\n",
    "            closest = (Asum, U2_3)\n",
    "            # bestG = G\n",
    "    return closest"
   ]
  },
  {
   "cell_type": "code",
   "execution_count": 13,
   "id": "7bf97b31-c0b2-4518-b48b-27d4a88787ab",
   "metadata": {},
   "outputs": [],
   "source": [
    "# Overall Program detailed in above Pseudocode\n",
    "def PROG_rand(n, p, I):\n",
    "    closest = (1000000, 0)\n",
    "    # bestG = None\n",
    "    for _ in range(I):\n",
    "        G = no4CliqueG(n, p)\n",
    "        # The times two is indicative of the randomized algorithm's expected value being 1/2 the actual max cut value\n",
    "        Asum = sumAx_rand(G, n) * 2\n",
    "        U2_3 = size2_3U(G, n)\n",
    "        if (Asum - U2_3) < (closest[0] - closest[1]):\n",
    "            closest = (Asum, U2_3)\n",
    "            # bestG = G\n",
    "    return closest"
   ]
  },
  {
   "cell_type": "code",
   "execution_count": 14,
   "id": "a01a05ac-907e-4871-a2a6-9d92bea5d096",
   "metadata": {},
   "outputs": [
    {
     "name": "stdout",
     "output_type": "stream",
     "text": [
      "sub4sets takes 0.058548927307128906 ; finding cliques takes 0.05160999298095703\n",
      "No 4-clique Graph Creation takes 0.1183319091796875 secs\n",
      "∑A(x) takes 6.018474340438843 secs\n",
      "2/3|U| takes 0.09231185913085938 secs\n"
     ]
    },
    {
     "data": {
      "text/plain": [
       "(858, 620)"
      ]
     },
     "execution_count": 14,
     "metadata": {},
     "output_type": "execute_result"
    }
   ],
   "source": [
    "# Example Usage with a small amount of vertices\n",
    "PROG(50, 0.4, 1)"
   ]
  },
  {
   "cell_type": "code",
   "execution_count": 15,
   "id": "d1300711-f1b9-488f-a2ee-f92ab1d7392f",
   "metadata": {},
   "outputs": [
    {
     "name": "stdout",
     "output_type": "stream",
     "text": [
      "sub4sets takes 0.06722784042358398 ; finding cliques takes 0.07615423202514648\n"
     ]
    },
    {
     "data": {
      "text/plain": [
       "(818, 556)"
      ]
     },
     "execution_count": 15,
     "metadata": {},
     "output_type": "execute_result"
    }
   ],
   "source": [
    "PROG_rand(50, 0.4, 1)"
   ]
  },
  {
   "cell_type": "markdown",
   "id": "b021f193-e01d-46f5-85df-0f42dbcb232a",
   "metadata": {},
   "source": [
    "<h2 style=\"text-align: center;\">Trying to find a better n</h2>\n",
    "Now that we have PROG, I will use careful analysis and techniques to narrow down ways to find a suitable G and better n bound. First, lets try and tinker with the value of p for certain values of n to get the best p to move forward with:"
   ]
  },
  {
   "cell_type": "code",
   "execution_count": null,
   "id": "6f6da2e5-7dbe-4a25-8427-b5a1fa4d6195",
   "metadata": {},
   "outputs": [
    {
     "name": "stdout",
     "output_type": "stream",
     "text": [
      "sub4sets takes 0.818709135055542 ; finding cliques takes 0.8908460140228271\n",
      "sub4sets takes 0.649979829788208 ; finding cliques takes 0.9105992317199707\n",
      "sub4sets takes 0.5201117992401123 ; finding cliques takes 0.7687931060791016\n",
      "sub4sets takes 0.5430238246917725 ; finding cliques takes 0.7708151340484619\n",
      "sub4sets takes 0.6215739250183105 ; finding cliques takes 0.8808350563049316\n",
      "sub4sets takes 0.6675310134887695 ; finding cliques takes 0.8359301090240479\n",
      "sub4sets takes 0.5268611907958984 ; finding cliques takes 0.8416767120361328\n",
      "sub4sets takes 0.5396013259887695 ; finding cliques takes 0.7665636539459229\n",
      "sub4sets takes 0.5368530750274658 ; finding cliques takes 0.8717391490936279\n",
      "sub4sets takes 0.5940990447998047 ; finding cliques takes 0.9351367950439453\n",
      "sub4sets takes 0.6751229763031006 ; finding cliques takes 1.0497510433197021\n",
      "sub4sets takes 0.574955940246582 ; finding cliques takes 0.7936301231384277\n",
      "sub4sets takes 0.570573091506958 ; finding cliques takes 0.8597347736358643\n",
      "sub4sets takes 0.5091488361358643 ; finding cliques takes 0.7903401851654053\n",
      "sub4sets takes 0.5679841041564941 ; finding cliques takes 0.8270609378814697\n",
      "sub4sets takes 0.5730791091918945 ; finding cliques takes 0.800692081451416\n",
      "sub4sets takes 0.567641019821167 ; finding cliques takes 0.8178470134735107\n",
      "sub4sets takes 0.5863840579986572 ; finding cliques takes 0.8025329113006592\n",
      "sub4sets takes 0.48583292961120605 ; finding cliques takes 0.7912278175354004\n",
      "sub4sets takes 0.5448367595672607 ; finding cliques takes 0.8204212188720703\n",
      "sub4sets takes 0.6611042022705078 ; finding cliques takes 0.7921760082244873\n",
      "sub4sets takes 0.5657601356506348 ; finding cliques takes 0.8119258880615234\n",
      "sub4sets takes 0.5606482028961182 ; finding cliques takes 0.8052358627319336\n",
      "sub4sets takes 0.547015905380249 ; finding cliques takes 0.7781403064727783\n",
      "sub4sets takes 0.5557849407196045 ; finding cliques takes 0.8521909713745117\n",
      "sub4sets takes 0.5291810035705566 ; finding cliques takes 0.8139898777008057\n",
      "sub4sets takes 0.5214219093322754 ; finding cliques takes 0.9094491004943848\n"
     ]
    }
   ],
   "source": [
    "# n = 50, I = 25, p in {0.1,0.2,...,0.9}\n",
    "uno = \"p\"\n",
    "dos = \"∑A(x)\"\n",
    "tres = \"2/3|U|\"\n",
    "quatro = \"∑A(x) - 2/3|U|\"\n",
    "cinqo = \"Closeness\"\n",
    "data = {uno:[],\n",
    "        dos:[],\n",
    "        tres:[],\n",
    "        quatro:[],\n",
    "        cinqo:[]}\n",
    "for p in [0.1, 0.2, 0.3, 0.4, 0.5, 0.6, 0.7, 0.8, 0.9]:\n",
    "    closest = PROG_rand(100, p, 10)\n",
    "    data[uno].append(f\"{p:.1f}\")\n",
    "    data[dos].append(closest[0])\n",
    "    data[tres].append(closest[1])\n",
    "    data[quatro].append(closest[0] - closest[1])\n",
    "    data[cinqo].append(f\"{(closest[0] - closest[1])/(closest[0] + closest[1]):.2f}\")\n",
    "\n",
    "df = pd.DataFrame(data)\n",
    "display(df.style.hide(axis=\"index\"))"
   ]
  },
  {
   "cell_type": "markdown",
   "id": "d143e9ed-c3db-43d4-815f-bacbe8ed0ba5",
   "metadata": {},
   "source": [
    "So double sided news: it appears that the value of p doesn't seem to have much of a bearing on the closesness of ∑A(x) and 2/3|U|; HOWEVER, that is also good news because it means smaller values of p (which lead to less computation time) are just as probably good. We can continue with a new G_PROG that possibly gives us a valid graph :)"
   ]
  },
  {
   "cell_type": "code",
   "execution_count": null,
   "id": "46b0db3d-380b-4f47-b39e-f09c0624708f",
   "metadata": {},
   "outputs": [],
   "source": [
    "def G_PROG(n, p, I):\n",
    "    closest = (1000000, 0)\n",
    "    viableG = None\n",
    "    for _ in range(I):\n",
    "        t1 = time.time()\n",
    "        G = no4CliqueG(n, p)\n",
    "        # The times two is indicative of the randomized algorithm's expected value being 1/2 the actual max cut value\n",
    "        t2 = time.time()\n",
    "        print(f\"noCliques takes {t2-t1} seconds\")\n",
    "        Asum = sumAx_rand(G, n) * 2\n",
    "        t3 = time.time()\n",
    "        print(f\"noCliques takes {t3-t2} seconds\")\n",
    "        U2_3 = size2_3U(G, n)\n",
    "        t4 = time.time()\n",
    "        print(f\"U2_3 takes {t4-t3} seconds\")\n",
    "        if (Asum - U2_3) < (closest[0] - closest[1]):\n",
    "            closest = (Asum, U2_3)\n",
    "        if (Asum - U2_3) < 0:\n",
    "            viableG = G\n",
    "    \n",
    "    return closest, viableG"
   ]
  },
  {
   "cell_type": "code",
   "execution_count": null,
   "id": "b1da11d2-3308-41ac-877a-a784761165d0",
   "metadata": {},
   "outputs": [],
   "source": [
    "# Run G_PROG for a variety of N and I:\n",
    "oogaBooga = None\n",
    "uno = \"n\"\n",
    "dos = \"∑A(x)\"\n",
    "tres = \"2/3|U|\"\n",
    "quatro = \"∑A(x) - 2/3|U|\"\n",
    "cinqo = \"Closeness\"\n",
    "data = {uno:[],\n",
    "        dos:[],\n",
    "        tres:[],\n",
    "        quatro:[],\n",
    "        cinqo:[]}\n",
    "for n in range(100, 200, 50):\n",
    "    closest, viableG = G_PROG(n, 0.2, 1)\n",
    "    if not viableG == None:\n",
    "        oogaBooga = viableG\n",
    "    data[uno].append(n)\n",
    "    data[dos].append(closest[0])\n",
    "    data[tres].append(closest[1])\n",
    "    data[quatro].append(closest[0] - closest[1])\n",
    "    data[cinqo].append(f\"{(closest[0] - closest[1])/(closest[0] + closest[1]):.2f}\")\n",
    "\n",
    "df = pd.DataFrame(data)\n",
    "display(df.style.hide(axis=\"index\"))"
   ]
  },
  {
   "cell_type": "markdown",
   "id": "13cd9b0a-2a6c-4d19-a8f8-cf29ee68b270",
   "metadata": {},
   "source": [
    "<h2 style=\"text-align: center;\">Discussion</h2>\n",
    "One of the most challenging issues related to finidng a good bound for n is obviously the computational limits of python. A few key optimization processes I used are detailed below."
   ]
  },
  {
   "cell_type": "markdown",
   "id": "b6f11dde-7107-4273-ae6b-c90e82a14422",
   "metadata": {},
   "source": [
    "When determining what parts of the code prove to be a bottleneck, it is helpful to see what segments in PROG are the most taxing using time statements:"
   ]
  },
  {
   "cell_type": "code",
   "execution_count": null,
   "id": "c4f6de0a-a9fe-4f64-8ae4-323679a3af0b",
   "metadata": {},
   "outputs": [],
   "source": [
    "# Overall Program detailed in above Pseudocode\n",
    "def PROG(n, p, I):\n",
    "    closest = (1000000, 0)\n",
    "    # bestG = None\n",
    "    for _ in range(I):\n",
    "        time1 = time.time()\n",
    "        G = no4CliqueG(n, p)\n",
    "        time2 = time.time()\n",
    "        print(f\"No 4-clique Graph Creation takes {time2 - time1} secs\")\n",
    "        Asum = sumAx(G, n)\n",
    "        time3 = time.time()\n",
    "        print(f\"∑A(x) takes {time3 - time2} secs\")\n",
    "        U2_3 = size2_3U(G, n)\n",
    "        time4 = time.time()\n",
    "        print(f\"2/3|U| takes {time4 - time3} secs\")\n",
    "        if (Asum - U2_3) < (closest[0] - closest[1]):\n",
    "            closest = (Asum, U2_3)\n",
    "            # bestG = G\n",
    "    return closest"
   ]
  },
  {
   "cell_type": "markdown",
   "id": "55605a80-a810-4517-9c95-8860115e69b2",
   "metadata": {},
   "source": [
    "One should note that determining the value of $A(x)=\\max_{N(x)=R\\cup B}\\{(y,z)\\in E\\colon y\\in R \\land z \\in B\\}$ is essentially the same as solving the max-cut problem... which is NP hard :,). HOWEVER, there is a very quick polynomial time randomized algorithm that can approximate the max-cut of a given graph with expected value 1/2 of the ACTUAL max-cut. THUS, I nested two randomized algorithms to significantly reduce the runtime of the overall algorithm!"
   ]
  },
  {
   "cell_type": "code",
   "execution_count": null,
   "id": "236462b1-ec7a-4eb1-9738-de6660a42d0c",
   "metadata": {},
   "outputs": [],
   "source": [
    "# Time to optimize because we clearly cannot continue until we can confidently reach significantly larger bounds on this stuff.\n",
    "\n",
    "# Run G_PROG for a variety of N and I:\n",
    "oogaBooga = None\n",
    "uno = \"n\"\n",
    "dos = \"∑A(x)\"\n",
    "tres = \"2/3|U|\"\n",
    "quatro = \"∑A(x) - 2/3|U|\"\n",
    "cinqo = \"Closeness\"\n",
    "data = {uno:[],\n",
    "        dos:[],\n",
    "        tres:[],\n",
    "        quatro:[],\n",
    "        cinqo:[]}\n",
    "for n in range(100, 200, 50):\n",
    "    closest, viableG = G_PROG(n, 0.2, 1)\n",
    "    if not viableG == None:\n",
    "        oogaBooga = viableG\n",
    "    data[uno].append(n)\n",
    "    data[dos].append(closest[0])\n",
    "    data[tres].append(closest[1])\n",
    "    data[quatro].append(closest[0] - closest[1])\n",
    "    data[cinqo].append(f\"{(closest[0] - closest[1])/(closest[0] + closest[1]):.2f}\")"
   ]
  },
  {
   "cell_type": "code",
   "execution_count": null,
   "id": "43857943-4c2d-47c6-b6a1-06b355cbb794",
   "metadata": {},
   "outputs": [],
   "source": [
    "# GRAPH CREATION IS THE BANE OF ME NOW TO IMPROVE"
   ]
  },
  {
   "cell_type": "code",
   "execution_count": null,
   "id": "87989043-725c-48a9-ba67-bbe8aed5fe06",
   "metadata": {},
   "outputs": [],
   "source": [
    "# Creates a Random Graph (adjacency matrix) as detailed in definitions\n",
    "# Create a graph G with no 4-cliques:\n",
    "def no4CliqueG_analyze(n, p):\n",
    "    t1 = time.time()\n",
    "    G = randomGraph(n, p)\n",
    "    t2 = time.time()\n",
    "    cliques = cliques4(G, n)\n",
    "    t3 = time.time()\n",
    "    for cq in cliques:\n",
    "        # Check to see if a previous removal already eliminated this specific clique\n",
    "        if G[cq[0]][cq[1]] + G[cq[0]][cq[2]] + G[cq[0]][cq[3]] + G[cq[1]][cq[2]] + G[cq[1]][cq[3]] + G[cq[2]][cq[3]] != 6:\n",
    "            continue\n",
    "        else:\n",
    "            # Otherwise, randomly remove an edge from the 4-clique to eliminate it\n",
    "            match int(random.random()*6):\n",
    "                case 0:\n",
    "                    G[cq[0]][cq[1]] = 0\n",
    "                    G[cq[1]][cq[0]] = 0\n",
    "                case 1:\n",
    "                    G[cq[0]][cq[2]] = 0\n",
    "                    G[cq[2]][cq[0]] = 0\n",
    "                case 2:\n",
    "                    G[cq[0]][cq[3]] = 0\n",
    "                    G[cq[3]][cq[0]] = 0\n",
    "                case 3:\n",
    "                    G[cq[1]][cq[2]] = 0\n",
    "                    G[cq[2]][cq[1]] = 0\n",
    "                case 4:\n",
    "                    G[cq[1]][cq[3]] = 0\n",
    "                    G[cq[3]][cq[1]] = 0\n",
    "                case _:\n",
    "                    G[cq[2]][cq[3]] = 0\n",
    "                    G[cq[3]][cq[2]] = 0\n",
    "        t4 = time.time()\n",
    "    print(f\"{t2-t1} : {t3-t2} : {t4-t3}\")\n",
    "    return G"
   ]
  },
  {
   "cell_type": "code",
   "execution_count": null,
   "id": "fdf5e913-6734-4bd6-8b0c-f9ffa0b1f396",
   "metadata": {},
   "outputs": [],
   "source": [
    "G = no4CliqueG_analyze(n, p)"
   ]
  },
  {
   "cell_type": "markdown",
   "id": "0b8659b1-829d-4f0e-9e84-722646d65b48",
   "metadata": {},
   "source": [
    "We gotta worry about one combinatorial definition:\\\n",
    "**Def** A $K_4$ (4-clique) between vertices $w,x,y,z \\in V$ in a graph G is defined as the edges $(w,x),(w,y),(w,z),(x,y),(x,z),(y,z) \\in E$\n",
    "\n",
    "So... how about we jsut add edges into our graph and check to make sure we dont CREATE a 4-clique? Construction below"
   ]
  },
  {
   "cell_type": "code",
   "execution_count": null,
   "id": "c2705311-84e0-4f9d-a6f3-3f1238006f2c",
   "metadata": {},
   "outputs": [],
   "source": [
    "# I believe we want our graph to be connected. So, let us start with a list [n] of our vertices,\n",
    "# and using a while loop to just keep adding to an edge set, imma just do it haha\n",
    "def makeGraphFast(n, p):\n",
    "    # I lowkey think we just need the edge set because we know all n vertices exist lolz\n",
    "    E = set()\n",
    "    connect = list(range(n))\n",
    "    connected = [connect[0]]\n",
    "    random.shuffle(connect)\n",
    "    for i in range(1, n):\n",
    "        u = connect[i]\n",
    "        v = random.choice(connected)\n",
    "        if u < v:\n",
    "            E.add((u, v))\n",
    "        else:\n",
    "            E.add((v, u))\n",
    "        connected.append(u)\n",
    "\n",
    "    edgeMax = math.comb(n, 2)\n",
    "    edgeMax = int(p*(edgeMax))\n",
    "    for _ in range(edgeMax - n):\n",
    "        v = int(random.random() * n)\n",
    "        u = int(random.random() * n)\n",
    "        if not u == v:\n",
    "            if u < v:\n",
    "                E.add((u,v))\n",
    "            else:\n",
    "                E.add((v,u))\n",
    "    return E"
   ]
  },
  {
   "cell_type": "code",
   "execution_count": null,
   "id": "05de88ae-a4f7-48ba-af22-b62e22558af9",
   "metadata": {},
   "outputs": [],
   "source": [
    "# I believe we want our graph to be connected. So, let us start with a list [n] of our vertices,\n",
    "# and using a while loop to just keep adding to an edge set, imma just do it haha\n",
    "\n",
    "#This works up to input n=1000 reasonably; cannot handle 10000 :(\n",
    "def makeGraphFast2(n, p):\n",
    "    # I lowkey think we just need the edge set because we know all n vertices exist lolz\n",
    "    E = []\n",
    "    for i in range(n):\n",
    "        E.append(set())\n",
    "    connect = list(range(n))\n",
    "    random.shuffle(connect)\n",
    "    connected = [connect[0]]\n",
    "    for i in range(1, n):\n",
    "        u = connect[i]\n",
    "        v = random.choice(connected)\n",
    "        E[u].add(v)\n",
    "        E[v].add(u)\n",
    "        connected.append(u)\n",
    "\n",
    "    edgeMax = math.comb(n, 2)\n",
    "    edgeMax = int(p*(edgeMax))\n",
    "    for _ in range(edgeMax - n):\n",
    "        v = int(random.random() * n)\n",
    "        u = int(random.random() * n)\n",
    "        if not u == v:\n",
    "            if len(E[u]) < 2 or len(E[v]) < 2:\n",
    "                E[u].add(v)\n",
    "                E[v].add(u)\n",
    "        # if not u == v:\n",
    "        #     neighbors = E[u] & E[v]\n",
    "        #     flag = True\n",
    "        #     for i, j in list(combinations(neighbors, 2)):\n",
    "        #         if j in E[i]:\n",
    "        #             flag = False\n",
    "        #     if flag:\n",
    "        #         E[u].add(v)\n",
    "        #         E[v].add(u)\n",
    "    return E"
   ]
  },
  {
   "cell_type": "markdown",
   "id": "216f07b9-4cf2-4162-a0f2-d8140d82369d",
   "metadata": {},
   "source": [
    "Note the following theorem:\n",
    "For a randomly instantiated graph G=(V,E) where V=[n], |E| = k, the probability that a randomly added edge creates a 4-clique is:\n",
    "$\\frac{nPr(k,5)}{nPr(nCr(n,2),5)}\\times nCr(n,4)$"
   ]
  },
  {
   "cell_type": "code",
   "execution_count": null,
   "id": "f19b40a1-aa8d-42ec-b7cf-0a58b4894156",
   "metadata": {},
   "outputs": [],
   "source": [
    "# Uses my random formula to help\n",
    "def makeGraphFast2(n):\n",
    "    # I lowkey think we just need the edge set because we know all n vertices exist lolz\n",
    "    E = []\n",
    "    for i in range(n):\n",
    "        E.append(set())\n",
    "    connect = list(range(n))\n",
    "    random.shuffle(connect)\n",
    "    connected = [connect[0]]\n",
    "    for i in range(1, n):\n",
    "        u = connect[i]\n",
    "        v = random.choice(connected)\n",
    "        E[u].add(v)\n",
    "        E[v].add(u)\n",
    "        connected.append(u)\n",
    "\n",
    "    edgeMax = math.comb(n, 2)\n",
    "    edgeMax = int(p*(edgeMax))\n",
    "    for _ in range(edgeMax - n):\n",
    "        v = int(random.random() * n)\n",
    "        u = int(random.random() * n)\n",
    "        if not u == v:\n",
    "            if len(E[u]) < 2 or len(E[v]) < 2:\n",
    "                E[u].add(v)\n",
    "                E[v].add(u)\n",
    "    return E"
   ]
  }
 ],
 "metadata": {
  "kernelspec": {
   "display_name": "Python 3 (ipykernel)",
   "language": "python",
   "name": "python3"
  },
  "language_info": {
   "codemirror_mode": {
    "name": "ipython",
    "version": 3
   },
   "file_extension": ".py",
   "mimetype": "text/x-python",
   "name": "python",
   "nbconvert_exporter": "python",
   "pygments_lexer": "ipython3",
   "version": "3.12.6"
  }
 },
 "nbformat": 4,
 "nbformat_minor": 5
}
